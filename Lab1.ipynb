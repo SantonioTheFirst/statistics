{
 "cells": [
  {
   "cell_type": "code",
   "execution_count": 1,
   "metadata": {},
   "outputs": [],
   "source": [
    "import numpy as np"
   ]
  },
  {
   "cell_type": "code",
   "execution_count": 2,
   "metadata": {},
   "outputs": [],
   "source": [
    "class Lab1:\n",
    "    def __init__(self, n):\n",
    "        self.n = n\n",
    "\n",
    "\n",
    "    def get_X(self, begin, end, size) : return np.random.normal(begin, end, size = size)\n",
    "\n",
    "\n",
    "    def get_a(self, X) : return np.divide(np.sum(X), len(X))\n",
    "\n",
    "\n",
    "    def get_sigma(self, X) : return np.sqrt(np.divide(np.sum((X - self.get_a(X)) ** 2), len(X)))\n",
    "\n",
    "\n",
    "    def solve_A(self, z, expected):\n",
    "        for n_i in self.n:\n",
    "            X = self.get_X(expected, 1, n_i); a = self.get_a(X); sigma = self.get_sigma(X)\n",
    "            l = a - z * sigma / np.sqrt(n_i - 1); r = a + z * sigma / np.sqrt(n_i - 1)\n",
    "#             print(type(left), type(right), type(expected))\n",
    "#             print(left)\n",
    "            print(f'n = {n_i}: ',\\\n",
    "                  f'\\n\\t{expected} попал в интервал ({l}, {r})\\n' if expected > l and expected < r \\\n",
    "                  else f'\\n\\t{expected} попал в интервал ({l}, {r})\\n')\n",
    "    \n",
    "    \n",
    "    def solve_B(self, z, expected):\n",
    "        for n_i in self.n:\n",
    "            X = self.get_X(expected, 1, n_i); a = self.get_a(X); sigma = self.get_sigma(X)\n",
    "            l = a - z * sigma / np.sqrt(n_i) ;r = a + z * sigma / np.sqrt(n_i)\n",
    "#             print(type(left), type(right), type(expected))\n",
    "#             print(left)\n",
    "            print(f'n = {n_i}: ',\\\n",
    "                  f'\\n\\t{expected} попал в интервал ({l}, {r})\\n' if expected > l and expected < r \\\n",
    "                  else f'\\n\\t{expected} попал в интервал ({l}, {r})\\n')\n",
    "    \n",
    "    \n",
    "    def solve_C(self, z, variety):\n",
    "        for n_i, z_i in zip(self.n, z):\n",
    "            X = self.get_X(0, variety, n_i); sigma = self.get_sigma(X)\n",
    "            l = n_i * sigma / z_i[1]; r = n_i * sigma / z_i[0]\n",
    "            print(f'n = {n_i}: ',\\\n",
    "                  f'\\n\\t{variety} попал в интервал ({l}, {r})\\n' if variety > l and variety < r \\\n",
    "                  else f'\\n\\t{variety} попал в интервал ({l}, {r})\\n')"
   ]
  },
  {
   "cell_type": "code",
   "execution_count": 3,
   "metadata": {},
   "outputs": [],
   "source": [
    "L1 = Lab1(np.array([100, 10000, 1000000]))"
   ]
  },
  {
   "cell_type": "code",
   "execution_count": 4,
   "metadata": {},
   "outputs": [
    {
     "name": "stdout",
     "output_type": "stream",
     "text": [
      "n = 100:  \n",
      "\t0.0 попал в интервал (-0.15931700088738326, 0.3998725209212946)\n",
      "\n",
      "n = 10000:  \n",
      "\t0.0 попал в интервал (-0.020775566229277006, 0.030576508702203787)\n",
      "\n",
      "n = 1000000:  \n",
      "\t0.0 попал в интервал (-0.0037500933890752862, 0.001392870726203637)\n",
      "\n"
     ]
    }
   ],
   "source": [
    "L1.solve_A(2.575, .0)"
   ]
  },
  {
   "cell_type": "code",
   "execution_count": 5,
   "metadata": {},
   "outputs": [
    {
     "name": "stdout",
     "output_type": "stream",
     "text": [
      "n = 100:  \n",
      "\t0.0 попал в интервал (-0.22830235077807598, 0.2426397780553931)\n",
      "\n",
      "n = 10000:  \n",
      "\t0.0 попал в интервал (-0.016559893077170935, 0.03462667623818638)\n",
      "\n",
      "n = 1000000:  \n",
      "\t0.0 попал в интервал (-0.004331594031255234, 0.0008168823945772469)\n",
      "\n"
     ]
    }
   ],
   "source": [
    "L1.solve_B(2.575, .0)"
   ]
  },
  {
   "cell_type": "code",
   "execution_count": 6,
   "metadata": {},
   "outputs": [
    {
     "name": "stdout",
     "output_type": "stream",
     "text": [
      "n = 100:  \n",
      "\t1.0 попал в интервал (0.7232566300147248, 1.5113960833076017)\n",
      "\n",
      "n = 10000:  \n",
      "\t1.0 попал в интервал (0.9612034040123321, 1.0338550415204648)\n",
      "\n",
      "n = 1000000:  \n",
      "\t1.0 попал в интервал (0.9968544955930254, 1.0041436527265455)\n",
      "\n"
     ]
    }
   ],
   "source": [
    "z = [(66.5101053, 138.9867835), (9638.498197, 10367.01484), (996359.9858, 1003645.527)]\n",
    "\n",
    "L1.solve_C(z, 1.)"
   ]
  },
  {
   "cell_type": "code",
   "execution_count": 7,
   "metadata": {},
   "outputs": [],
   "source": [
    "from numba import jit\n",
    "# оформить все это в виде класса"
   ]
  },
  {
   "cell_type": "code",
   "execution_count": 8,
   "metadata": {},
   "outputs": [],
   "source": [
    "@jit(nopython = True, parallel = True)\n",
    "def get_sequence(size) : return np.random.uniform(0.0, 1.0, size = int(size))"
   ]
  },
  {
   "cell_type": "code",
   "execution_count": 9,
   "metadata": {},
   "outputs": [],
   "source": [
    "@jit(nopython = True, parallel = True)\n",
    "def get_ksi(w, alpha) : return ((-np.log(w)) ** 0.25) / alpha"
   ]
  },
  {
   "cell_type": "code",
   "execution_count": 10,
   "metadata": {},
   "outputs": [],
   "source": [
    "@jit(nopython = True, parallel = True)\n",
    "def get_etha(w) : return np.sqrt(-np.log(w))"
   ]
  },
  {
   "cell_type": "code",
   "execution_count": 11,
   "metadata": {},
   "outputs": [],
   "source": [
    "@jit(nopython = True, parallel = True)\n",
    "def get_count_nonzero(arr) : return np.count_nonzero(arr == 1)"
   ]
  },
  {
   "cell_type": "code",
   "execution_count": 12,
   "metadata": {},
   "outputs": [],
   "source": [
    "@jit(nopython = True, parallel = True)\n",
    "def task_B(size, alpha):\n",
    "    k = get_ksi(get_sequence(size), alpha); t = get_etha(get_sequence(size))\n",
    "#     print(k[:50])\n",
    "#     print(t[:50])\n",
    "    return k < t"
   ]
  },
  {
   "cell_type": "markdown",
   "metadata": {},
   "source": [
    "# дописать остальные таски"
   ]
  },
  {
   "cell_type": "code",
   "execution_count": 13,
   "metadata": {},
   "outputs": [],
   "source": [
    "@jit(nopython = True, parallel = True)\n",
    "def calc_result(n_0, alpha):\n",
    "    z2 = 2.575 ** 2; e2 = 0.01 ** 2; n = n_0\n",
    "    sequence = task_B(n_0, alpha)\n",
    "    summ = sequence.sum(); summ_squared = (sequence ** 2).sum()\n",
    "#     print(summ, summ_squared)\n",
    "    assert summ != 0.0, 'Нужно n_0 побольше' \n",
    "    Q = summ / n\n",
    "    sigma2 = (summ_squared - n * Q * Q) / (n - 1)\n",
    "    criteria = (z2 * sigma2) / (e2 * Q * Q)\n",
    "#     start = time.time()\n",
    "    step = 5000\n",
    "    while n < criteria:\n",
    "        n += step\n",
    "#         if n % 1000 == 0:\n",
    "#             print(n, criteria)\n",
    "        q = task_B(step, alpha)\n",
    "        summ += q.sum(); summ_squared += (q ** 2).sum()\n",
    "        Q = summ / n;\n",
    "        sigma2 = (summ_squared - n * Q * Q) / (n - 1)\n",
    "        criteria = (z2 * sigma2) / (e2 * Q * Q)\n",
    "        \n",
    "#     print('after first loop', n, criteria)\n",
    "    while n > np.floor(criteria) + 1.0:\n",
    "#         print(n, criteria)\n",
    "        n -= 1\n",
    "        q = task_B(1, alpha)\n",
    "        summ -= q.sum(); summ_squared -= (q ** 2).sum()\n",
    "        Q = summ / n\n",
    "        sigma2 = (summ_squared - n * Q * Q) / (n - 1)\n",
    "        criteria = (z2 * sigma2) / (e2 * Q * Q)\n",
    "#     print(n, criteria)\n",
    "    return alpha, n, Q#, time.time() - start"
   ]
  },
  {
   "cell_type": "code",
   "execution_count": 19,
   "metadata": {},
   "outputs": [
    {
     "name": "stdout",
     "output_type": "stream",
     "text": [
      "Alpha = 0.1\n",
      "n* = 333704766\n",
      "Q = 0.00019865763619330507\n",
      "CPU times: user 2min 23s, sys: 42.5 s, total: 3min 5s\n",
      "Wall time: 53.5 s\n"
     ]
    }
   ],
   "source": [
    "%%time\n",
    "result = calc_result(1000000, 0.1)\n",
    "names = ['Alpha', 'n*', 'Q']\n",
    "for name, value in zip(names, result):\n",
    "    print(f'{name} = {value}')"
   ]
  }
 ],
 "metadata": {
  "kernelspec": {
   "display_name": "Python 3",
   "language": "python",
   "name": "python3"
  },
  "language_info": {
   "codemirror_mode": {
    "name": "ipython",
    "version": 3
   },
   "file_extension": ".py",
   "mimetype": "text/x-python",
   "name": "python",
   "nbconvert_exporter": "python",
   "pygments_lexer": "ipython3",
   "version": "3.8.5"
  }
 },
 "nbformat": 4,
 "nbformat_minor": 4
}
