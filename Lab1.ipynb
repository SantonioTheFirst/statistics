{
 "cells": [
  {
   "cell_type": "code",
   "execution_count": 1,
   "metadata": {},
   "outputs": [],
   "source": [
    "import os, numpy as np"
   ]
  },
  {
   "cell_type": "code",
   "execution_count": 142,
   "metadata": {},
   "outputs": [],
   "source": [
    "class Lab1:\n",
    "    def __init__(self, n):\n",
    "        self.n = n\n",
    "\n",
    "\n",
    "    def get_X(self, begin, end, size) : return np.random.normal(begin, end, size = size)\n",
    "\n",
    "\n",
    "    def get_a(self, X) : return np.divide(np.sum(X), len(X))\n",
    "\n",
    "\n",
    "    def get_sigma(self, X) : return np.sqrt(np.divide(np.sum((X - self.get_a(X)) ** 2), len(X)))\n",
    "\n",
    "\n",
    "    def solve_A(self, z, expected):\n",
    "        for n_i in self.n:\n",
    "            X = self.get_X(expected, 1, n_i)\n",
    "            a = self.get_a(X)\n",
    "            sigma = self.get_sigma(X)\n",
    "            l = a - z * sigma / np.sqrt(n_i - 1); r = a + z * sigma / np.sqrt(n_i - 1)\n",
    "#             print(type(left), type(right), type(expected))\n",
    "#             print(left)\n",
    "            print(f'n = {n_i}: ',\\\n",
    "                  f'\\n\\t{expected} попал в интервал ({l}, {r})\\n' if expected > l and expected < r \\\n",
    "                  else f'\\n\\t{expected} попал в интервал ({l}, {r})\\n')\n",
    "    \n",
    "    \n",
    "    def solve_B(self, z, expected):\n",
    "        for n_i in self.n:\n",
    "            X = self.get_X(expected, 1, n_i)\n",
    "            a = self.get_a(X)\n",
    "            sigma = self.get_sigma(X)\n",
    "            l = a - z * sigma / np.sqrt(n_i) ;r = a + z * sigma / np.sqrt(n_i)\n",
    "#             print(type(left), type(right), type(expected))\n",
    "#             print(left)\n",
    "            print(f'n = {n_i}: ',\\\n",
    "                  f'\\n\\t{expected} попал в интервал ({l}, {r})\\n' if expected > l and expected < r \\\n",
    "                  else f'\\n\\t{expected} попал в интервал ({l}, {r})\\n')\n",
    "    \n",
    "    \n",
    "    def solve_C(self, z, variety):\n",
    "        for n_i, z_i in zip(self.n, z):\n",
    "            X = self.get_X(0, variety, n_i)\n",
    "            sigma = self.get_sigma(X)\n",
    "            l = n_i * sigma / z_i[1]; r = n_i * sigma / z_i[0]\n",
    "            print(f'n = {n_i}: ',\\\n",
    "                  f'\\n\\t{variety} попал в интервал ({l}, {r})\\n' if variety > l and variety < r \\\n",
    "                  else f'\\n\\t{variety} попал в интервал ({l}, {r})\\n')"
   ]
  },
  {
   "cell_type": "code",
   "execution_count": 147,
   "metadata": {},
   "outputs": [],
   "source": [
    "L1 = Lab1(np.array([100, 10000, 1000000]))"
   ]
  },
  {
   "cell_type": "code",
   "execution_count": 148,
   "metadata": {},
   "outputs": [
    {
     "name": "stdout",
     "output_type": "stream",
     "text": [
      "n = 100:  \n",
      "\t0.0 попал в интервал (-0.2437310729083624, 0.2528469787863499)\n",
      "\n",
      "n = 10000:  \n",
      "\t0.0 попал в интервал (-0.018639923797353707, 0.03317453107445203)\n",
      "\n",
      "n = 1000000:  \n",
      "\t0.0 попал в интервал (-0.005457966799697012, -0.0003012966730975273)\n",
      "\n"
     ]
    }
   ],
   "source": [
    "L1.solve_A(2.575, .0)"
   ]
  },
  {
   "cell_type": "code",
   "execution_count": 149,
   "metadata": {},
   "outputs": [
    {
     "name": "stdout",
     "output_type": "stream",
     "text": [
      "n = 100:  \n",
      "\t0.0 попал в интервал (-0.13087591720460015, 0.3787049061350488)\n",
      "\n",
      "n = 10000:  \n",
      "\t0.0 попал в интервал (-0.01774200114171138, 0.033967753412141775)\n",
      "\n",
      "n = 1000000:  \n",
      "\t0.0 попал в интервал (-0.004403594269308467, 0.0007403153503507183)\n",
      "\n"
     ]
    }
   ],
   "source": [
    "L1.solve_B(2.575, .0)"
   ]
  },
  {
   "cell_type": "code",
   "execution_count": 151,
   "metadata": {},
   "outputs": [
    {
     "name": "stdout",
     "output_type": "stream",
     "text": [
      "n = 100:  \n",
      "\t1.0 попал в интервал (0.7737100566525804, 1.6168290765846212)\n",
      "\n",
      "n = 10000:  \n",
      "\t1.0 попал в интервал (0.9490237171668484, 1.0207547647249593)\n",
      "\n",
      "n = 1000000:  \n",
      "\t1.0 попал в интервал (0.9959901730679701, 1.0032730101390068)\n",
      "\n"
     ]
    }
   ],
   "source": [
    "z = [(66.5101053, 138.9867835), (9638.498197, 10367.01484), (996359.9858, 1003645.527)]\n",
    "\n",
    "L1.solve_C(z, 1.)"
   ]
  },
  {
   "cell_type": "code",
   "execution_count": null,
   "metadata": {},
   "outputs": [],
   "source": []
  }
 ],
 "metadata": {
  "kernelspec": {
   "display_name": "Python 3",
   "language": "python",
   "name": "python3"
  },
  "language_info": {
   "codemirror_mode": {
    "name": "ipython",
    "version": 3
   },
   "file_extension": ".py",
   "mimetype": "text/x-python",
   "name": "python",
   "nbconvert_exporter": "python",
   "pygments_lexer": "ipython3",
   "version": "3.8.5"
  }
 },
 "nbformat": 4,
 "nbformat_minor": 4
}
