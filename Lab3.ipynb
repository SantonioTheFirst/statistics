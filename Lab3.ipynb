{
 "cells": [
  {
   "cell_type": "code",
   "execution_count": 1,
   "metadata": {},
   "outputs": [],
   "source": [
    "import numpy as np\n",
    "import scipy.stats as stats"
   ]
  },
  {
   "cell_type": "markdown",
   "metadata": {},
   "source": [
    "### Щадание 1"
   ]
  },
  {
   "cell_type": "code",
   "execution_count": 15,
   "metadata": {},
   "outputs": [],
   "source": [
    "def empty_boxes(x,y):\n",
    "    n, m = x.shape[0], y.shape[0]; p, z =  m / n, stats.norm.ppf(1 - 0.05)\n",
    "    criteria = n / (1 + p) + np.sqrt(n) * z * p / ((1 + p) ** (3 / 2))\n",
    "    x_s, count = np.sort(x), 0\n",
    "    first = x_s[0]\n",
    "    count += 1 if len(y[y < first]) == 0 else 0\n",
    "    for i in range(len(x_s) - 1):\n",
    "        count += 1 if y[(x_s[i] < y) & (y < x_s[i + 1])].shape[0] == 0 else 0\n",
    "    count += 1 if y[y > x_s[n - 1]].shape[0] == 0 else 0\n",
    "    \n",
    "    print(f'n = {n}, m = {m}, p = {p}, z = {z}, критерий = {criteria}, количество коробок = {count}')\n",
    "    print(\n",
    "        'Стат. данные не противоречат гипотезе H_0\\n'\n",
    "        if count < criteria else\n",
    "        'Стат. данные противоречат гипотезе H_0, принимаем H_1'\n",
    "    )\n",
    "\n",
    "    \n",
    "def get_max_arr(matrix):\n",
    "    m = matrix[0][0]\n",
    "    for a in matrix:\n",
    "        t = np.max(a)\n",
    "        m = t if t > m else m\n",
    "    return m\n",
    "\n",
    "\n",
    "def create_v(matrix, U): #как в лабе по крипте\n",
    "    r, k = U.shape[0], matrix.shape[0]; v = np.empty([k,r])\n",
    "    for i, a in enumerate(matrix):\n",
    "        for j in range(r - 1):\n",
    "            v[i][j] = a[(U[j] < a) & (a <= U[j + 1])].shape[0]\n",
    "    return v  \n",
    "    \n",
    "\n",
    "def chi2(matrix, g, r):\n",
    "    k, m = matrix.shape[0], get_max_arr(matrix); U = np.linspace(0, m, r) \n",
    "    v, z = create_v(matrix, U), stats.chi2.ppf(1 - g,(r - 1) * (k - 1))\n",
    "    v_t, n_t = np.zeros(r), np.zeros(matrix.shape[0])\n",
    "    \n",
    "    for j in range(v_t.shape[0]):\n",
    "        for i in range(v.shape[0]):\n",
    "            v_t[j] += v[i][j]\n",
    "    \n",
    "    for i in range(n_t.shape[0]):\n",
    "        n_t[i] = matrix[i].shape[0]\n",
    "    n, summ = np.sum(n_t), 0.\n",
    "    \n",
    "    for i in range(matrix.shape[0]): #крипта стат. хар\n",
    "        for j in range(r):\n",
    "            if v_t[j] != 0.0:\n",
    "                summ += (v[i][j] - (n_t[i] * v_t[j]) / n) ** 2\n",
    "                summ /= (n_t[i] * v_t[j])\n",
    "                \n",
    "    d = summ * n\n",
    "#     print(summ, n , d)\n",
    "    \n",
    "    print(f'm = {m}\\nn = {n}\\nU = {U[0:4]}\\nv_t = {v_t[0:4]}\\nn_t = {n_t[0:4]}\\nz = {z}')\n",
    "    print(\n",
    "        'Стат. данные не противоречат гипотезе H_0\\n'\n",
    "        if np.abs(d) < z else\n",
    "        'Стат. данные противоречат гипотезе H_0, принимаем H_1\\n'\n",
    "    )\n",
    "    print(d, z)\n",
    "    \n",
    "\n",
    "n, m = np.array([5 * 10 ** 2, 5 * 10 ** 3, 5 * 10 ** 4]), np.array([10 ** 3, 10 ** 4, 10 ** 5])\n",
    "task_1B_n, task_1B_m, task_1B_k, task_1B_r = np.array([2 * 10 ** 2, 2 * 10 ** 3, 2 * 10 ** 4]), \\\n",
    "np.array([6 * 10 ** 2, 6 * 10 ** 3, 6 * 10 ** 4]), np.array([4 * 10 ** 2, 4 * 10 ** 3, 4 * 10 ** 4]), \\\n",
    "np.array([1 * 10 ** 2, 1 * 10 ** 3, 1 * 10 ** 4])"
   ]
  },
  {
   "cell_type": "code",
   "execution_count": 16,
   "metadata": {},
   "outputs": [
    {
     "name": "stdout",
     "output_type": "stream",
     "text": [
      "n = 500, m = 1000, p = 2.0, z = 1.6448536269514722, критерий = 180.8233126758487, количество коробок = 173\n",
      "Стат. данные не противоречат гипотезе H_0\n",
      "\n",
      "n = 5000, m = 10000, p = 2.0, z = 1.6448536269514722, критерий = 1711.433912084415, количество коробок = 1683\n",
      "Стат. данные не противоречат гипотезе H_0\n",
      "\n",
      "n = 50000, m = 100000, p = 2.0, z = 1.6448536269514722, критерий = 16808.23312675849, количество коробок = 16837\n",
      "Стат. данные противоречат гипотезе H_0, принимаем H_1\n"
     ]
    }
   ],
   "source": [
    "def solve_task(n, m):\n",
    "    l_x = 1; l_y = 1.1\n",
    "    for n_i, m_i in zip(n, m):\n",
    "        x = np.random.exponential(scale = 1 / l_x, size = n_i)\n",
    "        y = np.random.exponential(scale = 1 / l_y, size = m_i)\n",
    "        empty_boxes(x, y)\n",
    "        \n",
    "solve_task(n, m)"
   ]
  },
  {
   "cell_type": "code",
   "execution_count": 18,
   "metadata": {},
   "outputs": [
    {
     "name": "stderr",
     "output_type": "stream",
     "text": [
      "<ipython-input-18-5556fb042958>:7: VisibleDeprecationWarning: Creating an ndarray from ragged nested sequences (which is a list-or-tuple of lists-or-tuples-or ndarrays with different lengths or shapes) is deprecated. If you meant to do this, you must specify 'dtype=object' when creating the ndarray\n",
      "  A = np.array([x,y,z])\n"
     ]
    },
    {
     "name": "stdout",
     "output_type": "stream",
     "text": [
      "m = 6.164853549538273\n",
      "n = 1200.0\n",
      "U = [0.         0.06227125 0.1245425  0.18681374]\n",
      "v_t = [80. 70. 72. 68.]\n",
      "n_t = [200. 600. 400.]\n",
      "z = 231.82916671052752\n",
      "Стат. данные не противоречат гипотезе H_0\n",
      "\n",
      "0.09871972307320312 231.82916671052752\n",
      "m = 9.35052023387873\n",
      "n = 12000.0\n",
      "U = [0.         0.00935988 0.01871976 0.02807964]\n",
      "v_t = [134. 118. 110.  97.]\n",
      "n_t = [2000. 6000. 4000.]\n",
      "z = 2103.102202045826\n",
      "Стат. данные не противоречат гипотезе H_0\n",
      "\n",
      "0.024941515979112493 2103.102202045826\n",
      "m = 12.741939515297643\n",
      "n = 120000.0\n",
      "U = [0.         0.00127432 0.00254864 0.00382296]\n",
      "v_t = [161. 138. 166. 155.]\n",
      "n_t = [20000. 60000. 40000.]\n",
      "z = 20328.08737478791\n",
      "Стат. данные не противоречат гипотезе H_0\n",
      "\n",
      "0.31250977035416133 20328.08737478791\n"
     ]
    }
   ],
   "source": [
    "def solve_task(n, m, k, r):\n",
    "    l_x, l_y, l_z, g = 1., 1., 1.1, 0.05\n",
    "    for n_i, m_i, k_i, r_i in zip(n, m, k, r):\n",
    "        x = np.random.exponential(scale = 1 / l_x, size = n_i)\n",
    "        y = np.random.exponential(scale = 1 / l_y, size = m_i)\n",
    "        z = np.random.exponential(scale = 1 / l_z, size = k_i)\n",
    "        A = np.array([x,y,z])\n",
    "        chi2(A, g, r_i)\n",
    "\n",
    "solve_task(task_1B_n, task_1B_m, task_1B_k, task_1B_r)"
   ]
  },
  {
   "cell_type": "markdown",
   "metadata": {},
   "source": [
    "### Задание 2"
   ]
  },
  {
   "cell_type": "code",
   "execution_count": 5,
   "metadata": {},
   "outputs": [],
   "source": [
    "def chi2_ind(X, Y, r, k, g):\n",
    "    print(f'r = {r}')\n",
    "    print(f'k = {k}')\n",
    "    z = stats.chi2.ppf(1 - g,(r - 1) * (k - 1))\n",
    "    n, X_max, X_min, Y_max, Y_min = X.shape[0], np.max(X), np.min(X), np.max(Y), np.min(Y)\n",
    "    linspace_X, linspace_Y, v = np.linspace(0, 1, r), np.linspace(-1, 2, k), np.zeros([r - 1,k - 1])\n",
    "    for i in range(r - 1):\n",
    "        for j in range(k - 1):\n",
    "            t_X = X[(linspace_X[i] < X) & (X <= linspace_X[i + 1])]\n",
    "            t_Y = Y[(linspace_Y[j] < Y) & (Y <= linspace_Y[j + 1])]\n",
    "            v[i][j] = t_X.shape[0] + t_Y.shape[0]\n",
    "    v_i, v_j, summ = np.zeros(r - 1), np.zeros(k - 1), 0.\n",
    "    \n",
    "    for i in range(r - 1): ####лаба по крипте стат. характ.\n",
    "        for j in range(k - 1):\n",
    "            v_i[i] += v[i][j]\n",
    "            \n",
    "    for j in range(k - 1):\n",
    "        for i in range(r - 1):\n",
    "            v_j[j] += v[i][j]\n",
    "\n",
    "    for i in range(r - 1):\n",
    "        for j in range(k - 1):\n",
    "            summ += (v[i][j] - (v_i[i] * v_j[j] / n)) ** 2\n",
    "            summ /= (v_i[i] * v_j[j])\n",
    "    \n",
    "    d = n * summ\n",
    "    print(f'Лин пр. X = {linspace_X[0:4]}\\nЛин пр. Y = {linspace_Y[0:4]}\\nv_i = {v_i[:10]}\\nv_j = {v_j[:10]}\\nd = {d}\\nz = {z}')\n",
    "    print(\n",
    "        'Стат. данные не противоречат гипотезе H_0\\n'\n",
    "        if d < z else\n",
    "        'Стат. данные противоречат гипотезе H_0, принимаем H_1\\n'\n",
    "    )\n",
    "    \n",
    "    \n",
    "def Spearman_test(X, Y):\n",
    "    z = stats.norm.ppf(1 - 0.05 / 2)\n",
    "    n, X_s, Y_s = X.shape[0], np.sort(X), np.sort(Y)\n",
    "    criteria = z / np.sqrt(n)\n",
    "    t = [np.where(X_s == element)[0][0] + 1 for element in X]\n",
    "    R = np.array(t)\n",
    "    t = [np.where(Y_s == element)[0][0] + 1 for element in Y]\n",
    "    S = np.array(t)\n",
    "    p = 1 - 6 / (n*(n**2-1))*np.sum((R - S)**2)\n",
    "    print(f'p = {p}, критерий = {criteria}, z = {z}')\n",
    "    \n",
    "    print(\n",
    "        'Стат. данные не противоречат гипотезе H_0\\n'\n",
    "        if np.abs(p) < criteria else\n",
    "        'Стат. данные противоречат гипотезе H_0, принимаем H_1\\n'\n",
    "    )\n",
    "    \n",
    "    \n",
    "def get_key_helper(arr): return arr[0]\n",
    "\n",
    "\n",
    "def Kendall_test(X, Y):\n",
    "    z = stats.norm.ppf(1 - 0.05 / 2)\n",
    "    n, X_s, Y_s = X.shape[0], np.sort(X), np.sort(Y)\n",
    "#     criteria = z / np.sqrt(n)\n",
    "    temp = [np.where(X_s == element)[0][0] + 1 for element in X]\n",
    "    R = np.array(temp)\n",
    "    temp = [np.where(Y_s == element)[0][0] + 1 for element in Y]\n",
    "    S = np.array(temp)\n",
    "    temp = list(zip(R, S))\n",
    "    pairs = sorted(temp, key = get_key_helper)\n",
    "    unzipped = zip(*pairs)\n",
    "    temp = list(unzipped)\n",
    "    V = np.array(temp[1])\n",
    "    \n",
    "    i, j = 0, 0\n",
    "    while i < n:\n",
    "        V_t = V[i + 1:]\n",
    "        j += V_t[V[i - 1] < V_t].shape[0]\n",
    "        i += 1\n",
    "        \n",
    "    t = (4 * j) / (n * (n - 1)) - 1\n",
    "    criteria=2 * z / (3 * np.sqrt(n))\n",
    "    \n",
    "    print(f't = {t}, z = {z}, критерий = {criteria}')\n",
    "    print(\n",
    "        'Стат. данные не противоречат гипотезе H_0\\n'\n",
    "        if np.abs(t) < criteria else\n",
    "        'Стат. данные противоречат гипотезе H_0, принимаем H_1\\n'\n",
    "    )"
   ]
  },
  {
   "cell_type": "code",
   "execution_count": 6,
   "metadata": {},
   "outputs": [
    {
     "name": "stdout",
     "output_type": "stream",
     "text": [
      "r = 10\n",
      "k = 30\n",
      "Лин пр. X = [0.         0.11111111 0.22222222 0.33333333]\n",
      "Лин пр. Y = [-1.         -0.89655172 -0.79310345 -0.68965517]\n",
      "v_i = [1950. 1834. 2153. 2240. 2240. 2095. 2037. 2356. 2095.]\n",
      "v_j = [500. 527. 554. 545. 581. 608. 617. 662. 707. 788.]\n",
      "d = 2057.9188416242987\n",
      "z = 299.68271857338647\n",
      "Стат. данные противоречат гипотезе H_0, принимаем H_1\n",
      "\n",
      "r = 50\n",
      "k = 80\n",
      "Лин пр. X = [0.         0.02040816 0.04081633 0.06122449]\n",
      "Лин пр. Y = [-1.         -0.96202532 -0.92405063 -0.88607595]\n",
      "v_i = [11004. 13216. 11320. 12347. 13295. 13532. 13137. 13611. 13927. 13611.]\n",
      "v_j = [5000. 5147. 5392. 5343. 6029. 6176. 6225. 6323. 6274. 6715.]\n",
      "d = 13679.13161123423\n",
      "z = 4016.856503937727\n",
      "Стат. данные противоречат гипотезе H_0, принимаем H_1\n",
      "\n",
      "r = 150\n",
      "k = 120\n",
      "Лин пр. X = [0.         0.00671141 0.01342282 0.02013423]\n",
      "Лин пр. Y = [-1.         -0.97478992 -0.94957983 -0.92436975]\n",
      "v_i = [88437. 91769. 87247. 92840. 88437. 88080. 88794. 89151. 90936. 89032.]\n",
      "v_j = [51490. 54172. 53874. 56109. 62814. 62963. 66539. 64155. 69072. 69221.]\n",
      "d = 93805.08702660467\n",
      "z = 18041.88111002131\n",
      "Стат. данные противоречат гипотезе H_0, принимаем H_1\n",
      "\n"
     ]
    }
   ],
   "source": [
    "n, r, k = np.array([5 * 10 ** 2, 5 * 10 ** 3, 5 * 10 ** 4]), np.array([10, 50, 150]), np.array([30, 80, 120])\n",
    "\n",
    "\n",
    "def solve_task(n, r, k):\n",
    "    g=0.05\n",
    "    for n_i, r_i, k_i in zip(n, r, k):\n",
    "        ksi = np.random.uniform(0, 1, n_i)\n",
    "        eta = np.random.uniform(-1, 1, n_i)\n",
    "        X = ksi; Y = ksi+eta\n",
    "        chi2_ind(X, Y, r_i, k_i, g)\n",
    "\n",
    "solve_task(n, r, k)"
   ]
  },
  {
   "cell_type": "code",
   "execution_count": 7,
   "metadata": {},
   "outputs": [
    {
     "name": "stdout",
     "output_type": "stream",
     "text": [
      "p = 0.410937515750063, критерий = 0.08765225405765815, z = 1.959963984540054\n",
      "Стат. данные противоречат гипотезе H_0, принимаем H_1\n",
      "\n",
      "p = 0.42001611331264455, критерий = 0.027718076486993554, z = 1.959963984540054\n",
      "Стат. данные противоречат гипотезе H_0, принимаем H_1\n",
      "\n",
      "p = 0.4292922842524529, критерий = 0.008765225405765815, z = 1.959963984540054\n",
      "Стат. данные противоречат гипотезе H_0, принимаем H_1\n",
      "\n"
     ]
    }
   ],
   "source": [
    "n = np.array([5 * 10 ** 2, 5 * 10 ** 3, 5 * 10 ** 4])\n",
    "\n",
    "\n",
    "def solve_task(n):\n",
    "    for n_i in n:\n",
    "        ksi = np.random.uniform(0, 1, n_i)\n",
    "        eta = np.random.uniform(-1, 1, n_i)\n",
    "        X = ksi; Y=ksi+eta\n",
    "        Spearman_test(X, Y)\n",
    "\n",
    "solve_task(n)"
   ]
  },
  {
   "cell_type": "code",
   "execution_count": 8,
   "metadata": {},
   "outputs": [
    {
     "name": "stdout",
     "output_type": "stream",
     "text": [
      "t = 0.2821162324649298, z = 1.959963984540054, критерий = 0.05843483603843876\n",
      "Стат. данные противоречат гипотезе H_0, принимаем H_1\n",
      "\n",
      "t = 0.29649497899579913, z = 1.959963984540054, критерий = 0.018478717657995705\n",
      "Стат. данные противоречат гипотезе H_0, принимаем H_1\n",
      "\n",
      "t = 0.29160798575971514, z = 1.959963984540054, критерий = 0.005843483603843878\n",
      "Стат. данные противоречат гипотезе H_0, принимаем H_1\n",
      "\n"
     ]
    }
   ],
   "source": [
    "def solve_task(n):\n",
    "    for n_i in n:\n",
    "        ksi = np.random.uniform(0, 1, n_i)\n",
    "        eta = np.random.uniform(-1, 1, n_i)\n",
    "        X = ksi; Y = ksi + eta\n",
    "        Kendall_test(X, Y)\n",
    "    \n",
    "solve_task(n)"
   ]
  },
  {
   "cell_type": "markdown",
   "metadata": {},
   "source": [
    "### Задание 3"
   ]
  },
  {
   "cell_type": "code",
   "execution_count": 9,
   "metadata": {},
   "outputs": [],
   "source": [
    "def get_seq(n):\n",
    "    ksi = np.random.uniform(-1, 1, n); X = []\n",
    "    summ = ksi[0]; X.append(summ)\n",
    "    for i in range(1, n):\n",
    "        summ += ksi[i]; X.append(summ)\n",
    "    return np.array(X)\n",
    "\n",
    "\n",
    "def get_eta(X):\n",
    "    length = X.shape[0]; eta = np.zeros(length)\n",
    "    for i in range(length):\n",
    "#         print(i, length)\n",
    "        X_t = X[i + 1 : length]\n",
    "        eta[i] = len(X_t[X[i] > X_t])\n",
    "    return eta\n",
    "\n",
    "\n",
    "def test_ind_of_sequence(X):\n",
    "    z=stats.norm.ppf(1 - 0.05 / 2)\n",
    "    length, eta = X.shape[0], get_eta(X); summ = np.sum(eta)\n",
    "    criteria = np.abs((6 / (length ** (3 / 2))) * (summ - ((length * (length - 1)) / 4)))\n",
    "    print(f'n = {length}, summ = {summ}, критерий = {criteria}, z = {z}')\n",
    "    print(\n",
    "        'Стат. данные не противоречат гипотезе H_0\\n'\n",
    "        if z > criteria else\n",
    "        'Стат. данные противоречат гипотезе H_0, принимаем H_1\\n'\n",
    "    )"
   ]
  },
  {
   "cell_type": "code",
   "execution_count": 13,
   "metadata": {},
   "outputs": [
    {
     "name": "stdout",
     "output_type": "stream",
     "text": [
      "n = 500, summ = 51300.0, критерий = 5.943468684194441, z = 1.959963984540054\n",
      "Стат. данные противоречат гипотезе H_0, принимаем H_1\n",
      "\n",
      "n = 5000, summ = 8265708.0, критерий = 34.228912300042964, z = 1.959963984540054\n",
      "Стат. данные противоречат гипотезе H_0, принимаем H_1\n",
      "\n",
      "n = 50000, summ = 975909753.0, критерий = 188.3246430060911, z = 1.959963984540054\n",
      "Стат. данные противоречат гипотезе H_0, принимаем H_1\n",
      "\n"
     ]
    }
   ],
   "source": [
    "def solve_task(n):\n",
    "    for n_i in n:\n",
    "        seq = get_seq(n_i)\n",
    "        test_ind_of_sequence(seq)\n",
    "    \n",
    "solve_task(n)"
   ]
  }
 ],
 "metadata": {
  "kernelspec": {
   "display_name": "Python 3",
   "language": "python",
   "name": "python3"
  },
  "language_info": {
   "codemirror_mode": {
    "name": "ipython",
    "version": 3
   },
   "file_extension": ".py",
   "mimetype": "text/x-python",
   "name": "python",
   "nbconvert_exporter": "python",
   "pygments_lexer": "ipython3",
   "version": "3.8.5"
  }
 },
 "nbformat": 4,
 "nbformat_minor": 4
}
