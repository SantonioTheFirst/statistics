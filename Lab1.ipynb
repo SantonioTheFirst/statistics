{
 "cells": [
  {
   "cell_type": "code",
   "execution_count": 1,
   "metadata": {},
   "outputs": [],
   "source": [
    "import numpy as np"
   ]
  },
  {
   "cell_type": "code",
   "execution_count": 2,
   "metadata": {},
   "outputs": [],
   "source": [
    "class Lab1:\n",
    "    def __init__(self, n):\n",
    "        self.n = n\n",
    "\n",
    "\n",
    "    def get_X(self, begin, end, size) : return np.random.normal(begin, end, size = size)\n",
    "\n",
    "\n",
    "    def get_a(self, X) : return np.divide(np.sum(X), len(X))\n",
    "\n",
    "\n",
    "    def get_sigma(self, X) : return np.sqrt(np.divide(np.sum((X - self.get_a(X)) ** 2), len(X)))\n",
    "\n",
    "\n",
    "    def solve_A(self, z, expected):\n",
    "        for n_i in self.n:\n",
    "            X = self.get_X(expected, 1, n_i); a = self.get_a(X); sigma = self.get_sigma(X)\n",
    "            l = a - z * sigma / np.sqrt(n_i - 1); r = a + z * sigma / np.sqrt(n_i - 1)\n",
    "#             print(type(left), type(right), type(expected))\n",
    "#             print(left)\n",
    "            print(f'n = {n_i}: ',\\\n",
    "                  f'\\n\\t{expected} попал в интервал ({l}, {r})\\n' if expected > l and expected < r \\\n",
    "                  else f'\\n\\t{expected} попал в интервал ({l}, {r})\\n')\n",
    "    \n",
    "    \n",
    "    def solve_B(self, z, expected):\n",
    "        for n_i in self.n:\n",
    "            X = self.get_X(expected, 1, n_i); a = self.get_a(X); sigma = self.get_sigma(X)\n",
    "            l = a - z * sigma / np.sqrt(n_i) ;r = a + z * sigma / np.sqrt(n_i)\n",
    "#             print(type(left), type(right), type(expected))\n",
    "#             print(left)\n",
    "            print(f'n = {n_i}: ',\\\n",
    "                  f'\\n\\t{expected} попал в интервал ({l}, {r})\\n' if expected > l and expected < r \\\n",
    "                  else f'\\n\\t{expected} попал в интервал ({l}, {r})\\n')\n",
    "    \n",
    "    \n",
    "    def solve_C(self, z, variety):\n",
    "        for n_i, z_i in zip(self.n, z):\n",
    "            X = self.get_X(0, variety, n_i); sigma = self.get_sigma(X)\n",
    "            l = n_i * sigma / z_i[1]; r = n_i * sigma / z_i[0]\n",
    "            print(f'n = {n_i}: ',\\\n",
    "                  f'\\n\\t{variety} попал в интервал ({l}, {r})\\n' if variety > l and variety < r \\\n",
    "                  else f'\\n\\t{variety} попал в интервал ({l}, {r})\\n')"
   ]
  },
  {
   "cell_type": "code",
   "execution_count": 3,
   "metadata": {},
   "outputs": [],
   "source": [
    "L1 = Lab1(np.array([100, 10000, 1000000]))"
   ]
  },
  {
   "cell_type": "code",
   "execution_count": 4,
   "metadata": {},
   "outputs": [
    {
     "name": "stdout",
     "output_type": "stream",
     "text": [
      "n = 100:  \n",
      "\t0.0 попал в интервал (-0.20668703492595386, 0.3000484200611664)\n",
      "\n",
      "n = 10000:  \n",
      "\t0.0 попал в интервал (-0.023913851850291188, 0.02708035372317941)\n",
      "\n",
      "n = 1000000:  \n",
      "\t0.0 попал в интервал (-0.002602474312651049, 0.0025496575077886678)\n",
      "\n"
     ]
    }
   ],
   "source": [
    "L1.solve_A(2.575, .0)"
   ]
  },
  {
   "cell_type": "code",
   "execution_count": 5,
   "metadata": {},
   "outputs": [
    {
     "name": "stdout",
     "output_type": "stream",
     "text": [
      "n = 100:  \n",
      "\t0.0 попал в интервал (-0.36040163318424306, 0.17239966055658845)\n",
      "\n",
      "n = 10000:  \n",
      "\t0.0 попал в интервал (-0.03997998090886792, 0.011836038792869867)\n",
      "\n",
      "n = 1000000:  \n",
      "\t0.0 попал в интервал (-0.003418846723981696, 0.0017345108620582723)\n",
      "\n"
     ]
    }
   ],
   "source": [
    "L1.solve_B(2.575, .0)"
   ]
  },
  {
   "cell_type": "code",
   "execution_count": 6,
   "metadata": {},
   "outputs": [
    {
     "name": "stdout",
     "output_type": "stream",
     "text": [
      "n = 100:  \n",
      "\t1.0 попал в интервал (0.6735186696174764, 1.4074582064649386)\n",
      "\n",
      "n = 10000:  \n",
      "\t1.0 попал в интервал (0.9624993722668191, 1.0352489642926472)\n",
      "\n",
      "n = 1000000:  \n",
      "\t1.0 попал в интервал (0.9973112043259859, 1.0046037009857192)\n",
      "\n"
     ]
    }
   ],
   "source": [
    "z = [(66.5101053, 138.9867835), (9638.498197, 10367.01484), (996359.9858, 1003645.527)]\n",
    "\n",
    "L1.solve_C(z, 1.)"
   ]
  },
  {
   "cell_type": "code",
   "execution_count": 7,
   "metadata": {},
   "outputs": [],
   "source": [
    "from numba import jit\n",
    "# оформить все это в виде класса не получилось, ведь Numba плохо приспособлена для этого"
   ]
  },
  {
   "cell_type": "code",
   "execution_count": 8,
   "metadata": {},
   "outputs": [],
   "source": [
    "@jit(nopython = True, parallel = True)\n",
    "def get_sequence(size) : return np.random.uniform(0.0, 1.0, size = int(size))"
   ]
  },
  {
   "cell_type": "code",
   "execution_count": 9,
   "metadata": {},
   "outputs": [],
   "source": [
    "@jit(nopython = True, parallel = True)\n",
    "def get_ksi(w, alpha) : return ((-np.log(w)) ** 0.25) / alpha"
   ]
  },
  {
   "cell_type": "code",
   "execution_count": 10,
   "metadata": {},
   "outputs": [],
   "source": [
    "@jit(nopython = True, parallel = True)\n",
    "def get_etha(w) : return np.sqrt(-np.log(w))"
   ]
  },
  {
   "cell_type": "code",
   "execution_count": 11,
   "metadata": {},
   "outputs": [],
   "source": [
    "@jit(nopython = True, parallel = True)\n",
    "def get_count_nonzero(arr) : return np.count_nonzero(arr == 1)"
   ]
  },
  {
   "cell_type": "code",
   "execution_count": 12,
   "metadata": {},
   "outputs": [],
   "source": [
    "@jit(nopython = True, parallel = True)\n",
    "def task_B(size, alpha):\n",
    "    k = get_ksi(get_sequence(size), alpha); t = get_etha(get_sequence(size))\n",
    "    return k < t"
   ]
  },
  {
   "cell_type": "code",
   "execution_count": 13,
   "metadata": {},
   "outputs": [],
   "source": [
    "@jit(nopython = True, parallel = True)\n",
    "def task_C(size, alpha):\n",
    "    k = get_ksi(get_sequence(size), alpha)\n",
    "    return np.exp(-(k ** 2))"
   ]
  },
  {
   "cell_type": "code",
   "execution_count": 14,
   "metadata": {},
   "outputs": [],
   "source": [
    "@jit(nopython = True, parallel = True)\n",
    "def task_D(size, alpha):\n",
    "    t = get_etha(get_sequence(size))\n",
    "    return 1 - np.exp( - ((alpha * t) ** 4))"
   ]
  },
  {
   "cell_type": "code",
   "execution_count": 15,
   "metadata": {},
   "outputs": [],
   "source": [
    "@jit(nopython = True, parallel = True)\n",
    "def task_E(size, alpha):\n",
    "    t1 = -np.log(get_sequence(size))\n",
    "    t2 = -np.log(get_sequence(size))\n",
    "    t3 = -np.log(get_sequence(size))\n",
    "    b = np.sqrt(t1 + t2 + t3)\n",
    "    return 2 * ( 1 - np.exp( -((alpha * b) ** 4) )) / (b ** 4)"
   ]
  },
  {
   "cell_type": "code",
   "execution_count": 16,
   "metadata": {},
   "outputs": [],
   "source": [
    "@jit(nopython = True, parallel = True)\n",
    "def calc_result(n_0, alpha, task):\n",
    "    z2 = 2.575 ** 2; e2 = 0.01 ** 2; n = n_0\n",
    "    sequence = task(n_0, alpha)\n",
    "    summ = sequence.sum(); summ_squared = (sequence ** 2).sum()\n",
    "\n",
    "    assert summ != 0.0, 'Нужно n_0 побольше' \n",
    "    Q = summ / n\n",
    "    sigma2 = (summ_squared - n * Q * Q) / (n - 1)\n",
    "    criteria = (z2 * sigma2) / (e2 * Q * Q)\n",
    "    step = 10000\n",
    "    while n < criteria:\n",
    "        n += step\n",
    "        q = task(step, alpha)\n",
    "        summ += q.sum(); summ_squared += (q ** 2).sum()\n",
    "        Q = summ / n\n",
    "        sigma2 = (summ_squared - n * Q * Q) / (n - 1)\n",
    "        criteria = (z2 * sigma2) / (e2 * Q * Q)\n",
    "\n",
    "    while n > np.ceil(criteria) and criteria >= 0:\n",
    "        n -= 1\n",
    "        q = task(1, alpha)\n",
    "        summ -= q.sum(); summ_squared -= (q ** 2).sum()\n",
    "        Q = summ / n\n",
    "        if n - 1 <= 0 or criteria <= 0:\n",
    "            break\n",
    "        sigma2 = (summ_squared - n * Q * Q) / (n - 1)\n",
    "        criteria = (z2 * sigma2) / (e2 * Q * Q)\n",
    "    return alpha, n, Q"
   ]
  },
  {
   "cell_type": "code",
   "execution_count": 20,
   "metadata": {},
   "outputs": [],
   "source": [
    "labels = np.array(['alpha', 'n*', 'Q'])\n",
    "tasks = np.array([task_B, task_C, task_D, task_E])\n",
    "iterations = np.array([10000, 10000, 10000])\n",
    "alphas = np.array([1.0, 0.3, 0.1])\n",
    "\n",
    "\n",
    "# @jit(nopython = True, parallel = True)\n",
    "def do_all_stuff(labels, tasks):\n",
    "    for task in tasks:\n",
    "        print(f'{str(task)[24 : 30]}\\n')\n",
    "        for it, alpha in zip(iterations, alphas):\n",
    "            if 'task_B' in str(task) and alpha == 0.1:\n",
    "                it = 1000000\n",
    "            result = calc_result(it, alpha, task)\n",
    "            for label, value in zip(labels, result):\n",
    "                print(f'{label} = {value}')\n",
    "            print('\\n\\n')"
   ]
  },
  {
   "cell_type": "code",
   "execution_count": 21,
   "metadata": {},
   "outputs": [
    {
     "name": "stdout",
     "output_type": "stream",
     "text": [
      "task_B\n",
      "\n",
      "alpha = 1.0\n",
      "n* = 79079\n",
      "Q = 0.4560755699996206\n",
      "\n",
      "\n",
      "\n",
      "alpha = 0.3\n",
      "n* = 4241852\n",
      "Q = 0.015390683126143959\n",
      "\n",
      "\n",
      "\n",
      "alpha = 0.1\n",
      "n* = 332799557\n",
      "Q = 0.00019919798150452465\n",
      "\n",
      "\n",
      "\n",
      "task_C\n",
      "\n",
      "alpha = 1.0\n",
      "n* = 11362\n",
      "Q = 0.4527645803817915\n",
      "\n",
      "\n",
      "\n",
      "alpha = 0.3\n",
      "n* = 1041083\n",
      "Q = 0.015502051920900553\n",
      "\n",
      "\n",
      "\n",
      "alpha = 0.1\n",
      "n* = 83199210\n",
      "Q = 0.0001999155604700998\n",
      "\n",
      "\n",
      "\n",
      "task_D\n",
      "\n",
      "alpha = 1.0\n",
      "n* = 45694\n",
      "Q = 0.45215217684175235\n",
      "\n",
      "\n",
      "\n",
      "alpha = 0.3\n",
      "n* = 287164\n",
      "Q = 0.015503112077723752\n",
      "\n",
      "\n",
      "\n",
      "alpha = 0.1\n",
      "n* = 330810\n",
      "Q = 0.00019849429081032551\n",
      "\n",
      "\n",
      "\n",
      "task_E\n",
      "\n",
      "alpha = 1.0\n",
      "n* = 62844\n",
      "Q = 0.4561171667187506\n",
      "\n",
      "\n",
      "\n",
      "alpha = 0.3\n",
      "n* = 615\n",
      "Q = 0.015593794881330062\n",
      "\n",
      "\n",
      "\n",
      "alpha = 0.1\n",
      "n* = 329\n",
      "Q = 0.0001998873037524341\n",
      "\n",
      "\n",
      "\n",
      "CPU times: user 7min 17s, sys: 3min 4s, total: 10min 21s\n",
      "Wall time: 3min 40s\n"
     ]
    }
   ],
   "source": [
    "%%time\n",
    "do_all_stuff(labels, tasks)"
   ]
  }
 ],
 "metadata": {
  "kernelspec": {
   "display_name": "Python 3",
   "language": "python",
   "name": "python3"
  },
  "language_info": {
   "codemirror_mode": {
    "name": "ipython",
    "version": 3
   },
   "file_extension": ".py",
   "mimetype": "text/x-python",
   "name": "python",
   "nbconvert_exporter": "python",
   "pygments_lexer": "ipython3",
   "version": "3.8.5"
  }
 },
 "nbformat": 4,
 "nbformat_minor": 4
}
